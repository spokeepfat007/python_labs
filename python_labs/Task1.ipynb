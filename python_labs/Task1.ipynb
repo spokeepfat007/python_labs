{
 "cells": [
  {
   "cell_type": "markdown",
   "metadata": {},
   "source": [
    "# Задание 1\n",
    "\n",
    "Есть следующий код для [автоматического дифференцирования](https://en.wikipedia.org/wiki/Automatic_differentiation), в котором используются особенности системы типов языка `Python`: "
   ]
  },
  {
   "cell_type": "code",
   "execution_count": 4,
   "metadata": {},
   "outputs": [
    {
     "name": "stdout",
     "output_type": "stream",
     "text": [
      "[4, 3, 2, 1, 0]\n"
     ]
    }
   ],
   "source": [
    "my_list = list(range(5))\n",
    "my_list = my_list[::-1]\n",
    "print(my_list)"
   ]
  },
  {
   "cell_type": "code",
   "execution_count": 77,
   "metadata": {},
   "outputs": [],
   "source": [
    "from dataclasses import dataclass\n",
    "from typing import Union, Callable\n",
    "from numbers import Number\n",
    "from math import sin, cos, log, exp\n",
    "import math\n",
    "@dataclass\n",
    "class Dual:\n",
    "    value: float\n",
    "    d: float\n",
    "\n",
    "    def __add__(self, other: Union[\"Dual\", Number]) -> \"Dual\":\n",
    "         match other:\n",
    "            case Dual(o_value, o_d):\n",
    "                return Dual(self.value + o_value, self.d + o_d)\n",
    "            case Number():\n",
    "                return Dual(float(other) + self.value, self.d)\n",
    "\n",
    "    def __mul__(self, other: Union[\"Dual\", Number]) -> \"Dual\":\n",
    "        match other:\n",
    "            case Dual(o_value, o_d):\n",
    "                return Dual(self.value * o_value, self.value * o_d + self.d * o_value)\n",
    "            case Number():\n",
    "                return Dual(float(other) * self.value, float(other) * self.d)\n",
    "    def __sub__(self, other: Union[\"Dual\", Number]) -> \"Dual\":\n",
    "     match other:\n",
    "        case Dual(o_value, o_d):\n",
    "            return Dual(self.value - o_value, self.d - o_d)\n",
    "        case Number():\n",
    "            return Dual(self.value- float(other), self.d)\n",
    "    def __rsub__(self, other: Number) -> \"Dual\":\n",
    "            return Dual(float(other) - self.value, -self.d)\n",
    "    def __pow__(self, other: Number) -> \"Dual\":\n",
    "        return Dual(float(math.pow(self.value,other)), other*float(math.pow(self.value,other-1.0)))\n",
    "    def __truediv__(self, other: Union[\"Dual\", Number]) -> \"Dual\":\n",
    "        match other:\n",
    "            case Dual(o_value, o_d):\n",
    "                return Dual(self.value / o_value, (self.d * o_value - self.value * o_d )/(o_value**2))\n",
    "            case Number():\n",
    "                return Dual(self.value/float(other), self.d/float(other))\n",
    "    def __rtruediv__(self, other: Number) -> \"Dual\":\n",
    "        return Dual(float(other)/self.value, - float(other)*self.d/ (self.value**2) )\n",
    "    def __neg__(self):\n",
    "        return Dual(-self.value, -self.d)\n",
    "    def __pos__(self):\n",
    "        return Dual(self.value, self.d)\n",
    "\n",
    "    __rmul__ = __mul__  # https://docs.python.org/3/reference/datamodel.html#object.__mul__\n",
    "    __radd__ = __add__  # https://docs.python.org/3/reference/datamodel.html#object.__radd__\n",
    "\n",
    "def Cos(other: Union[\"Dual\", Number]) -> \"Dual\":\n",
    "     match other:\n",
    "        case Dual(o_value, o_d):\n",
    "            return Dual(cos(o_value), -o_d*sin(o_value))\n",
    "        case Number():\n",
    "            return Dual(cos(float(other)), 0)\n",
    "                         \n",
    "def Sin(other: Union[\"Dual\", Number]) -> \"Dual\":\n",
    "     match other:\n",
    "        case Dual(o_value, o_d):\n",
    "            return Dual(sin(o_value), o_d*cos(o_value))\n",
    "        case Number():\n",
    "            return Dual(sin(float(other)), 0)\n",
    "                            \n",
    "\n",
    "def Exp(other: Union[\"Dual\", Number]) -> \"Dual\":\n",
    "     match other:\n",
    "        case Dual(o_value, o_d):\n",
    "            return Dual(exp(o_value), o_d*exp(o_value))\n",
    "        case Number():\n",
    "            return Dual(exp(float(other)), 0)\n",
    "        \n",
    "def Log(base: Number, other: Union[\"Dual\", Number]) -> \"Dual\":\n",
    "     match other:\n",
    "        case Dual(o_value, o_d):\n",
    "            return Dual(math.log(o_value, base), o_d/(o_value*log(base, math.e)))\n",
    "        case Number():\n",
    "            return Dual(exp(float(other)), 0)\n",
    "                            \n",
    "def diff(func: Callable[[float], float]) -> Callable[[float], float]:\n",
    "    return lambda *args: func(*list(Dual(arg, 1.0) for i, arg in enumerate(args))).d "
   ]
  },
  {
   "cell_type": "markdown",
   "metadata": {},
   "source": [
    "Поддерживаются две операции - сложение и умножение. Применить можно так:"
   ]
  },
  {
   "cell_type": "code",
   "execution_count": 80,
   "metadata": {},
   "outputs": [
    {
     "data": {
      "text/plain": [
       "-0.4161468365471424"
      ]
     },
     "execution_count": 80,
     "metadata": {},
     "output_type": "execute_result"
    }
   ],
   "source": [
    "# Функция, которую будем дифференцировать\n",
    "def f(x: float) -> float:\n",
    "    return Sin(x)\n",
    "f_diff = diff(f)\n",
    "# значение производной в точке x = 2\n",
    "f_diff(2)"
   ]
  },
  {
   "cell_type": "markdown",
   "metadata": {},
   "source": [
    "## Задание 1.1 (5 баллов)\n",
    "\n",
    "Какие недостатки вы видите в данной реализации? Реализуйте поддержку (полностью самостоятельно или модифицируя приведенный код):\n",
    "- [унарных операций](https://docs.python.org/3/reference/datamodel.html#object.__neg__) \n",
    "- деления\n",
    "- возведения в степень\n",
    "\n",
    "Каким образом можно проверить корректность решения?  Реализуйте достаточный, по вашему мнению, набор тестов."
   ]
  },
  {
   "cell_type": "code",
   "execution_count": 7,
   "metadata": {},
   "outputs": [
    {
     "name": "stderr",
     "output_type": "stream",
     "text": [
      "\"which\" ­Ґ пў«пҐвбп ў­гваҐ­­Ґ© Ё«Ё ў­Ґи­Ґ©\n",
      "Є®¬ ­¤®©, ЁбЇ®«­пҐ¬®© Їа®Ја ¬¬®© Ё«Ё Ї ЄҐв­л¬ д ©«®¬.\n"
     ]
    }
   ],
   "source": [
    "!which python\n"
   ]
  },
  {
   "cell_type": "markdown",
   "metadata": {},
   "source": [
    "## Задание 1.2 (7 баллов)\n",
    "Придумайте способ и реализуйте поддержку функций:\n",
    "- `exp()`\n",
    "- `cos()`\n",
    "- `sin()`\n",
    "- `log()`\n",
    "\n",
    "Добавьте соответствующие тесты"
   ]
  },
  {
   "cell_type": "code",
   "execution_count": 8,
   "metadata": {},
   "outputs": [],
   "source": [
    "# ваш код"
   ]
  },
  {
   "cell_type": "markdown",
   "metadata": {},
   "source": [
    "## Задание 1.3 (3 балла)\n",
    "\n",
    "Воспользуйтесь методами **численного** дифференцирования для \"проверки\" работы кода на нескольких примерах. Например,  библиотеке `scipy` есть функция `derivative`. Или реализуйте какой-нибудь метод численного дифференцирования самостоятельно (**+5 баллов**)"
   ]
  },
  {
   "cell_type": "code",
   "execution_count": 9,
   "metadata": {},
   "outputs": [
    {
     "data": {
      "text/plain": [
       "22.0"
      ]
     },
     "execution_count": 9,
     "metadata": {},
     "output_type": "execute_result"
    }
   ],
   "source": [
    "from scipy.misc import derivative\n",
    "\n",
    "def f(x: float) -> float:\n",
    "    return 5 * x * x + 2 * x + 2\n",
    "\n",
    "derivative(f, 2.)"
   ]
  },
  {
   "cell_type": "code",
   "execution_count": 10,
   "metadata": {},
   "outputs": [],
   "source": [
    "# ваш код"
   ]
  },
  {
   "cell_type": "markdown",
   "metadata": {},
   "source": [
    "## Задание 1.4 (10 баллов)\n",
    "\n",
    "Необходимо разработать систему автоматического тестирования алгоритма дифференцирования в следующем виде:\n",
    "- реализовать механизм генерации \"случайных функций\" (например, что-то вроде такого: $f(x) = x + 5 * x - \\cos(20 * \\log(12 - 20 * x * x )) - 20 * x$ )\n",
    "- сгенерировать достаточно большое число функций и сравнить результаты символьного и численного дифференцирования в случайных точках "
   ]
  },
  {
   "cell_type": "markdown",
   "metadata": {},
   "source": [
    "Генерацию случайных функций можно осуществить, например, двумя путями. \n",
    "1. Генерировать функцию в текстовом виде, зачем использовать встроенную функцию [eval](https://docs.python.org/3/library/functions.html#eval)\n",
    "\n",
    "```python\n",
    "func = eval(\"lambda x: 2 * x + 5\")\n",
    "assert func(42) == 89 \n",
    "```\n",
    "\n",
    "2. Использовать стандартный модуль [ast](https://docs.python.org/3/library/ast.html), который позволяет во время выполнения программы манипулировать [Абстрактным Синтаксическим Деревом](https://ru.wikipedia.org/wiki/%D0%90%D0%B1%D1%81%D1%82%D1%80%D0%B0%D0%BA%D1%82%D0%BD%D0%BE%D0%B5_%D1%81%D0%B8%D0%BD%D1%82%D0%B0%D0%BA%D1%81%D0%B8%D1%87%D0%B5%D1%81%D0%BA%D0%BE%D0%B5_%D0%B4%D0%B5%D1%80%D0%B5%D0%B2%D0%BE).\n",
    "Например, выражение \n",
    "\n",
    "```python\n",
    "func = lambda x: 2 * x + 5\n",
    "```\n",
    "\n",
    "Можно запрограммировать с помощью кода:\n",
    "\n",
    "```python\n",
    "\n",
    "expr = ast.Expression(\n",
    "    body=ast.Lambda(\n",
    "        args=ast.arguments(\n",
    "            args=[\n",
    "                ast.arg(arg='x')\n",
    "            ],\n",
    "            posonlyargs=[],\n",
    "            kwonlyargs=[],\n",
    "            kw_defaults=[],\n",
    "            defaults=[]\n",
    "        ),\n",
    "        body=ast.BinOp(\n",
    "            left=ast.BinOp(\n",
    "                left=ast.Constant(value=2),\n",
    "                op=ast.Mult(),\n",
    "                right=ast.Name(id='x', ctx=ast.Load())\n",
    "            ),\n",
    "            op=math.cos(),\n",
    "            right=ast.Constant(value=5)\n",
    "        )\n",
    "    )\n",
    ")\n",
    "\n",
    "ast.fix_missing_locations(expr)\n",
    "print(expr)\n",
    "func = eval(compile(expr, filename=\"\", mode=\"eval\"))\n",
    "\n",
    "assert func(42) == 89\n",
    "```\n",
    "\n",
    "При реализации нужно учитывать области допустимых значений функций."
   ]
  },
  {
   "cell_type": "code",
   "execution_count": 11,
   "metadata": {},
   "outputs": [
    {
     "name": "stdout",
     "output_type": "stream",
     "text": [
      "4\n"
     ]
    }
   ],
   "source": [
    "print(4)"
   ]
  },
  {
   "cell_type": "code",
   "execution_count": 12,
   "metadata": {},
   "outputs": [
    {
     "name": "stdout",
     "output_type": "stream",
     "text": [
      "4\n",
      "Expression(body=Lambda(args=arguments(posonlyargs=[], args=[arg(arg='x')], kwonlyargs=[], kw_defaults=[], defaults=[]), body=BinOp(left=Constant(value=-5), op=Div(), right=Name(id='x', ctx=Load()))))\n",
      "1.25\n"
     ]
    }
   ],
   "source": [
    "import ast\n",
    "import random\n",
    "\n",
    "rate = 1.05\n",
    "start = 0\n",
    "\n",
    "BinOp = [ast.Mult(), ast.Add(), ast.Sub(), ast.Div(), ast.Pow()]\n",
    "Custom_operations = [lambda: ast.Call(func=ast.Name(id='Sin', ctx=ast.Load()), args=[generate_expression()],\\\n",
    "                                      keywords=[]), lambda: ast.Call(func=ast.Name(id='Exp', ctx=ast.Load()), args=[generate_expression()], keywords=[]),lambda: ast.Call(func=ast.Name(id='Cos', ctx=ast.Load()), args=[generate_expression()], keywords=[])]\n",
    "UnOp = [ ast.USub(), ast.UAdd()]\n",
    "Variable = ast.Name(id='x', ctx=ast.Load())\n",
    "Constant = lambda a: ast.Constant(random.randint(a,5))\n",
    "\n",
    "def generate_unary_operation():\n",
    "    return random.choice(UnOp)\n",
    "\n",
    "def generate_binary_operation():\n",
    "    return random.choice(BinOp)\n",
    "\n",
    "def generate_custom_operation():\n",
    "    return random.choice(Custom_operations)()\n",
    "\n",
    "operation = [lambda: ast.BinOp(\n",
    "                left=generate_expression(),\n",
    "                op=generate_binary_operation(),\n",
    "                right=generate_expression()), lambda: ast.UnaryOp(generate_unary_operation(), generate_expression()),lambda: generate_custom_operation()]\n",
    "\n",
    "\n",
    "def generate_ast():\n",
    "    return ast.Expression(body=ast.Lambda(\n",
    "        args=ast.arguments(\n",
    "            args=[\n",
    "                ast.arg(arg='x')\n",
    "            ],\n",
    "            posonlyargs=[],\n",
    "            kwonlyargs=[],\n",
    "            kw_defaults=[],\n",
    "            defaults=[]\n",
    "        ),body=generate_expression()))\n",
    "\n",
    "def generate_expression():\n",
    "    global start\n",
    "    op = random.randint(0,9)\n",
    "    if op < start:\n",
    "        return Variable\n",
    "    elif op <2*start:\n",
    "        return Constant(-5)\n",
    "    start = 2\n",
    "    return random.choice(operation)()\n",
    "\n",
    "\n",
    "print(4)\n",
    "\n",
    "expr = generate_ast()\n",
    "\n",
    "ast.fix_missing_locations(expr)\n",
    "print(ast.dump(expr))\n",
    "func = eval(compile(expr, filename=\"\", mode=\"eval\"))\n",
    "f_diff = diff(func)\n",
    "\n",
    "print(f_diff(2))"
   ]
  },
  {
   "cell_type": "markdown",
   "metadata": {},
   "source": [
    "## Задание 1.5 (7 баллов)\n",
    "\n",
    "Реализуйте поддержку функций нескольких аргументов. Например\n",
    "\n",
    "```python\n",
    "def f(x: float, y: float, z: float) -> float:\n",
    "    return x * y + z - 5 * y  \n",
    "\n",
    "\n",
    "f_diff = diff(f)\n",
    "\n",
    "f_diff(10, 10, 10) # = [10, 5, 1]\n",
    "```"
   ]
  },
  {
   "cell_type": "code",
   "execution_count": 93,
   "metadata": {},
   "outputs": [
    {
     "name": "stdout",
     "output_type": "stream",
     "text": [
      "4\n",
      "Expression(body=Lambda(args=arguments(posonlyargs=[], args=[arg(arg='u')], kwonlyargs=[], kw_defaults=[], defaults=[]), body=BinOp(left=Call(func=Name(id='Exp', ctx=Load()), args=[Constant(value=0)], keywords=[]), op=Mult(), right=Constant(value=-1))))\n",
      "-0.0\n"
     ]
    }
   ],
   "source": [
    "import ast\n",
    "import random\n",
    "\n",
    "rate = 1.05\n",
    "start = 0\n",
    "\n",
    "BinOp = [ast.Mult(), ast.Add(), ast.Sub(), ast.Div(), ast.Pow()]\n",
    "Custom_operations = [lambda: ast.Call(func=ast.Name(id='Sin', ctx=ast.Load()), args=[generate_expression()],\\\n",
    "                                      keywords=[]), lambda: ast.Call(func=ast.Name(id='Exp', ctx=ast.Load()), args=[generate_expression()], keywords=[]),lambda: ast.Call(func=ast.Name(id='Cos', ctx=ast.Load()), args=[generate_expression()], keywords=[])]\n",
    "UnOp = [ ast.USub(), ast.UAdd()]\n",
    "Variable = list(map(lambda x: ast.Name(id=x, ctx=ast.Load()), \"abcdefghijklmnopqrstuvwxyz\"))\n",
    "Constant = lambda a: ast.Constant(random.randint(a,5))\n",
    "def generate_unary_operation():\n",
    "    return random.choice(UnOp)\n",
    "\n",
    "def generate_binary_operation():\n",
    "    return random.choice(BinOp)\n",
    "\n",
    "def generate_custom_operation():\n",
    "    return random.choice(Custom_operations)()\n",
    "\n",
    "operation = [lambda: ast.BinOp(\n",
    "                left=generate_expression(),\n",
    "                op=generate_binary_operation(),\n",
    "                right=generate_expression()), lambda: ast.UnaryOp(generate_unary_operation(), generate_expression()),lambda: generate_custom_operation()]\n",
    "\n",
    "\n",
    "def generate_ast(N):\n",
    "    global variables, Variable\n",
    "    variables = random.sample(\"abcdefghijklmnopqrstuvwxyz\", k=N)\n",
    "    Variable = list(map(lambda x: ast.Name(id=x, ctx=ast.Load()), variables))\n",
    "    return ast.Expression(body=ast.Lambda(\n",
    "        \n",
    "        args=ast.arguments(\n",
    "            args=list(map(lambda x: ast.arg(arg=x),variables))\n",
    "            ,\n",
    "            posonlyargs=[],\n",
    "            kwonlyargs=[],\n",
    "            kw_defaults=[],\n",
    "            defaults=[]\n",
    "        ),body=generate_expression()))\n",
    "\n",
    "def generate_expression():\n",
    "    global start, Variable\n",
    "    op = random.randint(0,9)\n",
    "    if op < start:\n",
    "        return random.choice(Variable)\n",
    "    elif op <2*start:\n",
    "        return Constant(-5)\n",
    "    start = 2\n",
    "    return random.choice(operation)()\n",
    "\n",
    "\n",
    "print(4)\n",
    "\n",
    "expr = generate_ast(1)\n",
    "ast.fix_missing_locations(expr)\n",
    "print(ast.dump(expr))\n",
    "func = eval(compile(expr, filename=\"\", mode=\"eval\"))\n",
    "\n",
    "f_diff = diff(func)\n",
    "\n",
    "print(f_diff(2))"
   ]
  },
  {
   "cell_type": "code",
   "execution_count": 90,
   "metadata": {},
   "outputs": [
    {
     "name": "stdout",
     "output_type": "stream",
     "text": [
      "Expression(body=Lambda(args=arguments(posonlyargs=[], args=[arg(arg='x'), arg(arg='y')], kwonlyargs=[], kw_defaults=[], defaults=[]), body=BinOp(left=Call(func=Name(id='sin', ctx=Load()), args=[Name(id='x', ctx=Load())], keywords=[]), op=Mult(), right=Name(id='y', ctx=Load()))))\n"
     ]
    },
    {
     "ename": "TypeError",
     "evalue": "must be real number, not Dual",
     "output_type": "error",
     "traceback": [
      "\u001b[1;31m---------------------------------------------------------------------------\u001b[0m",
      "\u001b[1;31mTypeError\u001b[0m                                 Traceback (most recent call last)",
      "Cell \u001b[1;32mIn [90], line 6\u001b[0m\n\u001b[0;32m      3\u001b[0m func \u001b[38;5;241m=\u001b[39m \u001b[38;5;28meval\u001b[39m(\u001b[38;5;28mcompile\u001b[39m(expr, filename\u001b[38;5;241m=\u001b[39m\u001b[38;5;124m\"\u001b[39m\u001b[38;5;124m\"\u001b[39m, mode\u001b[38;5;241m=\u001b[39m\u001b[38;5;124m\"\u001b[39m\u001b[38;5;124meval\u001b[39m\u001b[38;5;124m\"\u001b[39m))\n\u001b[0;32m      4\u001b[0m f_diff \u001b[38;5;241m=\u001b[39m diff(func)\n\u001b[1;32m----> 6\u001b[0m \u001b[38;5;28mprint\u001b[39m(\u001b[43mf_diff\u001b[49m\u001b[43m(\u001b[49m\u001b[38;5;241;43m2\u001b[39;49m\u001b[43m,\u001b[49m\u001b[38;5;241;43m1\u001b[39;49m\u001b[43m)\u001b[49m)\n",
      "Cell \u001b[1;32mIn [77], line 80\u001b[0m, in \u001b[0;36mdiff.<locals>.<lambda>\u001b[1;34m(*args)\u001b[0m\n\u001b[0;32m     79\u001b[0m \u001b[38;5;28;01mdef\u001b[39;00m \u001b[38;5;21mdiff\u001b[39m(func: Callable[[\u001b[38;5;28mfloat\u001b[39m], \u001b[38;5;28mfloat\u001b[39m]) \u001b[38;5;241m-\u001b[39m\u001b[38;5;241m>\u001b[39m Callable[[\u001b[38;5;28mfloat\u001b[39m], \u001b[38;5;28mfloat\u001b[39m]:\n\u001b[1;32m---> 80\u001b[0m     \u001b[38;5;28;01mreturn\u001b[39;00m \u001b[38;5;28;01mlambda\u001b[39;00m \u001b[38;5;241m*\u001b[39margs: \u001b[43mfunc\u001b[49m\u001b[43m(\u001b[49m\u001b[38;5;241;43m*\u001b[39;49m\u001b[38;5;28;43mlist\u001b[39;49m\u001b[43m(\u001b[49m\u001b[43mDual\u001b[49m\u001b[43m(\u001b[49m\u001b[43marg\u001b[49m\u001b[43m,\u001b[49m\u001b[43m \u001b[49m\u001b[38;5;241;43m1.0\u001b[39;49m\u001b[43m)\u001b[49m\u001b[43m \u001b[49m\u001b[38;5;28;43;01mfor\u001b[39;49;00m\u001b[43m \u001b[49m\u001b[43mi\u001b[49m\u001b[43m,\u001b[49m\u001b[43m \u001b[49m\u001b[43marg\u001b[49m\u001b[43m \u001b[49m\u001b[38;5;129;43;01min\u001b[39;49;00m\u001b[43m \u001b[49m\u001b[38;5;28;43menumerate\u001b[39;49m\u001b[43m(\u001b[49m\u001b[43margs\u001b[49m\u001b[43m)\u001b[49m\u001b[43m)\u001b[49m\u001b[43m)\u001b[49m\u001b[38;5;241m.\u001b[39md\n",
      "File \u001b[1;32m:1\u001b[0m, in \u001b[0;36m<lambda>\u001b[1;34m(x, y)\u001b[0m\n",
      "\u001b[1;31mTypeError\u001b[0m: must be real number, not Dual"
     ]
    }
   ],
   "source": [
    "expr = ast.parse(\"lambda x, y: sin(x)*y\", mode=\"eval\")\n",
    "print(ast.dump(expr))\n",
    "func = eval(compile(expr, filename=\"\", mode=\"eval\"))\n",
    "f_diff = diff(func)\n",
    "\n",
    "print(f_diff(2,1))"
   ]
  },
  {
   "cell_type": "code",
   "execution_count": 15,
   "metadata": {},
   "outputs": [
    {
     "data": {
      "text/plain": [
       "['i', 'z', 'a']"
      ]
     },
     "execution_count": 15,
     "metadata": {},
     "output_type": "execute_result"
    }
   ],
   "source": [
    "variables = random.choices(\"abcdefghijklmnopqrstuvwxyz\", k=3)\n",
    "variables"
   ]
  },
  {
   "cell_type": "code",
   "execution_count": 64,
   "metadata": {},
   "outputs": [
    {
     "name": "stdout",
     "output_type": "stream",
     "text": [
      "Dual(value=-0.8488830940595048, d=0.0)\n"
     ]
    }
   ],
   "source": [
    "def d(*args, h=1e-5):\n",
    "    return (f(args[0]+h, args[1]+h)-f(args[0],args[1]))/h\n",
    "print(d(3,1))"
   ]
  },
  {
   "cell_type": "code",
   "execution_count": null,
   "metadata": {},
   "outputs": [],
   "source": []
  }
 ],
 "metadata": {
  "kernelspec": {
   "display_name": "jupyter_labs",
   "language": "python",
   "name": "jupyter_labs"
  },
  "language_info": {
   "codemirror_mode": {
    "name": "ipython",
    "version": 3
   },
   "file_extension": ".py",
   "mimetype": "text/x-python",
   "name": "python",
   "nbconvert_exporter": "python",
   "pygments_lexer": "ipython3",
   "version": "3.10.6"
  },
  "vscode": {
   "interpreter": {
    "hash": "916dbcbb3f70747c44a77c7bcd40155683ae19c65e1c03b4aa3499c5328201f1"
   }
  }
 },
 "nbformat": 4,
 "nbformat_minor": 2
}
